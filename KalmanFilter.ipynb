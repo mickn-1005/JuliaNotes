{
 "cells": [
  {
   "cell_type": "markdown",
   "metadata": {},
   "source": [
    "# KalmanFilter"
   ]
  },
  {
   "cell_type": "code",
   "execution_count": 1,
   "metadata": {},
   "outputs": [],
   "source": [
    "using Plots, DifferentialEquations, LinearAlgebra, Statistics, Distributions, Random"
   ]
  },
  {
   "cell_type": "markdown",
   "metadata": {},
   "source": [
    "## define constructor of KalmanFilter\n",
    "define Equation of state and Equation of observation as follows:\n",
    "$$\n",
    "x_k = A_k x_{k-1} + B_k u_k + w_k  \\\\\n",
    "z_k = C_k x_k + v_k\n",
    "$$\n",
    "$ w_k $ and $ v_k $ is gaussian noise:\n",
    "$$\n",
    "w_k \\sim  N(0, Q_k)   \\\\\n",
    "v_k \\sim N(0, R_k)\n",
    "$$"
   ]
  },
  {
   "cell_type": "code",
   "execution_count": 2,
   "metadata": {},
   "outputs": [
    {
     "data": {
      "text/plain": [
       "KF"
      ]
     },
     "execution_count": 2,
     "metadata": {},
     "output_type": "execute_result"
    }
   ],
   "source": [
    "# constructor of time-invariant system (F,G,H,Q,R is constant)\n",
    "mutable struct KF\n",
    "    # system dynamics matrices\n",
    "    A::Array{Float64}       # EOS\n",
    "    B::Array{Float64}       # controll\n",
    "    C::Array{Float64}       # EOO\n",
    "    Q::Array{Float64}       # Covariace matrix of drive noise\n",
    "    R::Array{Float64}       # COvariance matix of observation noise\n",
    "    # old state of system (or initial state at construction)\n",
    "    x_old::Vector{Float64}\n",
    "    P_old::Array{Float64}\n",
    "end\n",
    "# in case you consider the time-variant system, you have to access the members of this struct consequently\n",
    "function KF(kf::KF, A, B, C, Q, R)\n",
    "    # update time-variant system dynamics\n",
    "    kf.A = A\n",
    "    kf.B = B\n",
    "    kf.C = C\n",
    "    kf.Q = Q\n",
    "    kf.R = R\n",
    "    return kf\n",
    "end"
   ]
  },
  {
   "cell_type": "code",
   "execution_count": 3,
   "metadata": {},
   "outputs": [
    {
     "data": {
      "text/plain": [
       "KF_EoO (generic function with 2 methods)"
      ]
     },
     "execution_count": 3,
     "metadata": {},
     "output_type": "execute_result"
    }
   ],
   "source": [
    "# Equation of State\n",
    "KF_EoS(kf::KF, x::Vector{Float64}, w=zeros(length(x)), u=zeros(length(x))) = kf.A*x + kf.B*u + w\n",
    "# Equation of Observation\n",
    "KF_EoO(kf::KF, x::Vector{Float64}, v=zeros(length(kf.C*x))) = kf.C*x + v"
   ]
  },
  {
   "cell_type": "markdown",
   "metadata": {},
   "source": [
    "## update of state\n",
    "Prediction of state:\n",
    "$$\n",
    "\\hat{\\boldsymbol{x}}_{k|k-1} = A_k \\hat{\\boldsymbol{x}}_{k-1|k-1} + B_k \\boldsymbol{u}_{k}  \\qquad \\textrm{: prediction of state}\\\\\n",
    "P_{k|k-1} = A_k P_{k-1|k-1} A_k^T + Q_k  \\quad \\textrm{: prediction of error matrix}\n",
    "$$\n",
    "\n",
    "Update of state:\n",
    "$$\n",
    "\\boldsymbol{e}_{k} = \\boldsymbol{z}_{k} - C_k \\hat{\\boldsymbol{x}}_{k|k-1}    \\quad \\textrm{: innovation}\\\\\n",
    "S_k = R_k + C_k P_{k|k-1} C_k^T   \\quad \\textrm{: covariance matrix of innovation}\\\\\n",
    "K_k = P_{k|k-1} C_k^T S_k^{-1}      \\quad \\textrm{: optimal Kalman gain}\\\\\n",
    "\\hat{\\boldsymbol{x}}_{k|k} = \\hat{\\boldsymbol{x}}_{k|k-1}  + K_k\\boldsymbol{e}_{k}     \\quad \\textrm{: updated state prediction}\\\\\n",
    "P_{k|k} = (I-K_kC_k) P_{k|k-1}    \\quad \\textrm{: updated error matrix}\n",
    "$$"
   ]
  },
  {
   "cell_type": "code",
   "execution_count": 4,
   "metadata": {},
   "outputs": [
    {
     "data": {
      "text/plain": [
       "KalmanFilter (generic function with 2 methods)"
      ]
     },
     "execution_count": 4,
     "metadata": {},
     "output_type": "execute_result"
    }
   ],
   "source": [
    "# Estimation of Stable dynamics (using linear kalman filter) \n",
    "# default : no controll variable\n",
    "function KalmanFilter(kf::KF, x::Vector{Float64}, u=zeros(length(x)))\n",
    "    # Prediction of older filter\n",
    "    x_predicted = KF_EoS(kf, kf.x_old)\n",
    "    P_predicted = kf.A * kf.P_old * transpose(kf.A) + kf.Q\n",
    "    \n",
    "    # update filter\n",
    "    C_T = transpose(kf.C)\n",
    "    e = x - KF_EoO(kf, x_predicted)\n",
    "    S = kf.R + kf.C * P_predicted * C_T\n",
    "    Sinv = inv(S)\n",
    "    K = P_predicted * C_T * Sinv\n",
    "    x_updated = x_predicted + K*e\n",
    "    nm = length(kf.x_old)\n",
    "    eye = Matrix{Float64}(I, nm, nm)\n",
    "    P_updated = (eye - K*C) * P_predicted\n",
    "    \n",
    "    kf.x_old = x_updated\n",
    "    kf.P_old = P_updated\n",
    "    return x_updated, P_updated\n",
    "end"
   ]
  },
  {
   "cell_type": "markdown",
   "metadata": {},
   "source": [
    "## example : state estimation of moving trocco\n",
    "assumptions:\n",
    "- no control\n",
    "- time invariant\n",
    "- accurate initial state\n",
    "\n",
    "state is represented as :\n",
    "$$\n",
    "\\boldsymbol{x}_k = \n",
    " \\left[\\begin{array}{c}\n",
    "            x_k \\\\\n",
    "            \\dot{x}_k \\\\\n",
    "        \\end{array}\\right]\n",
    "$$\n",
    "acceralation $ a_k \\sim N(0,\\sigma_a) $ is given between time $k$ and  $k-1$. System dynamics is represented  as :\n",
    "$$\n",
    "\\boldsymbol{x}_k = A \\boldsymbol{x}_{k-1} + G a_k \\\\\n",
    "A = \n",
    "\\left[\\begin{array}{cc}\n",
    "            % 横並びは&を挟む\n",
    "            1 & \\Delta t\\\\\n",
    "            0 & 1\\\\\n",
    "        \\end{array}\\right]\\\\\n",
    "G = \n",
    " \\left[\\begin{array}{c}\n",
    "            \\frac{\\Delta t^2}{2} \\\\\n",
    "             \\Delta t\\\\\n",
    "         \\end{array}\\right]  \\\\\n",
    "a_k \\sim N(0, \\sigma_a) \\\\\n",
    "Q = Cov(G a_k) = \\sigma_a^2 \\times\n",
    "\\left[\\begin{array}{cc}\n",
    "            % 横並びは&を挟む\n",
    "            \\frac{\\Delta t^4}{4} & \\frac{\\Delta t^3}{2}\\\\\n",
    "            \\frac{\\Delta t^3}{2} & \\Delta t^2\\\\\n",
    "        \\end{array}\\right]\n",
    "$$\n",
    "observation of position $ x_k $ is represented by observation error as:\n",
    "$$\n",
    "z_k = C \\boldsymbol{x}_{k}+\\boldsymbol{v}_{k}  \\\\\n",
    "C = \\left[\\begin{array}{cc}\n",
    "            1 & 0\\\\\n",
    "        \\end{array}\\right]\\\\\n",
    "v_k \\sim N(0, \\sigma_z) \\\\\n",
    "R = \n",
    "\\mathrm{E}\\left(\\boldsymbol{v}_{k} \\boldsymbol{v}_{k}^{\\mathrm{T}}\\right)=\\left[\\sigma_{z}^{2}\\right]\n",
    "$$\n"
   ]
  },
  {
   "cell_type": "code",
   "execution_count": 5,
   "metadata": {},
   "outputs": [
    {
     "data": {
      "text/plain": [
       "1-element Array{Float64,1}:\n",
       " 1.0"
      ]
     },
     "execution_count": 5,
     "metadata": {},
     "output_type": "execute_result"
    }
   ],
   "source": [
    "rng = MersenneTwister(123)\n",
    "const x₀ = [0., 0.]\n",
    "const P₀ = [0. 0. ; 0. 0.]\n",
    "const σₐ = 1.\n",
    "const σ₀ = 1.\n",
    "const Δt = 0.1              # [sec]\n",
    "const A = [1. Δt ; 0. 1.]\n",
    "const B = [1. 0.; 0. 1.]      # not specified because u is zero vector\n",
    "const G = [Δt^2/2, Δt]\n",
    "const Q = σₐ^2 * [Δt^4/4 Δt^3/2; Δt^3/2 Δt^2]\n",
    "const C = [1 0]\n",
    "const R = [σ₀^2]"
   ]
  },
  {
   "cell_type": "code",
   "execution_count": 6,
   "metadata": {},
   "outputs": [
    {
     "data": {
      "text/plain": [
       "KF([1.0 0.1; 0.0 1.0], [1.0 0.0; 0.0 1.0], [1.0 0.0], [2.5e-5 0.0005; 0.0005 0.01], [1.0], [0.0, 0.0], [0.0 0.0; 0.0 0.0])"
      ]
     },
     "execution_count": 6,
     "metadata": {},
     "output_type": "execute_result"
    }
   ],
   "source": [
    "kf = KF(A, B, C, Q, R, x₀, P₀)"
   ]
  },
  {
   "cell_type": "code",
   "execution_count": 8,
   "metadata": {
    "scrolled": true
   },
   "outputs": [
    {
     "data": {
      "text/plain": [
       "101-element Array{Float64,1}:\n",
       "  0.0\n",
       "  0.1\n",
       "  0.2\n",
       "  0.3\n",
       "  0.4\n",
       "  0.5\n",
       "  0.6\n",
       "  0.7\n",
       "  0.8\n",
       "  0.9\n",
       "  1.0\n",
       "  1.1\n",
       "  1.2\n",
       "  ⋮  \n",
       "  8.9\n",
       "  9.0\n",
       "  9.1\n",
       "  9.2\n",
       "  9.3\n",
       "  9.4\n",
       "  9.5\n",
       "  9.6\n",
       "  9.7\n",
       "  9.8\n",
       "  9.9\n",
       " 10.0"
      ]
     },
     "execution_count": 8,
     "metadata": {},
     "output_type": "execute_result"
    }
   ],
   "source": [
    "tspan = 0.:Δt:10.\n",
    "k = collect(tspan)"
   ]
  },
  {
   "cell_type": "code",
   "execution_count": 7,
   "metadata": {},
   "outputs": [
    {
     "data": {
      "text/plain": [
       "1-element Array{Float64,1}:\n",
       " 2.054131047194171"
      ]
     },
     "execution_count": 7,
     "metadata": {},
     "output_type": "execute_result"
    }
   ],
   "source": [
    "state = KF_EoS(kf, kf.x_old, G*randn(rng))\n",
    "observation = KF_EoO(kf, state, [randn(rng)])\n",
    "estimation, newP = KalmanFilter(kf, observation)"
   ]
  }
 ],
 "metadata": {
  "@webio": {
   "lastCommId": null,
   "lastKernelId": null
  },
  "kernelspec": {
   "display_name": "Julia 1.1.1",
   "language": "julia",
   "name": "julia-1.1"
  },
  "language_info": {
   "file_extension": ".jl",
   "mimetype": "application/julia",
   "name": "julia",
   "version": "1.1.1"
  }
 },
 "nbformat": 4,
 "nbformat_minor": 2
}
