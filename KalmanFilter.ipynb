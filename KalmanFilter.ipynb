{
 "cells": [
  {
   "cell_type": "markdown",
   "metadata": {},
   "source": [
    "# KalmanFilter"
   ]
  },
  {
   "cell_type": "code",
   "execution_count": 1,
   "metadata": {},
   "outputs": [],
   "source": [
    "using Plots, DifferentialEquations, LinearAlgebra, Statistics, Distributions, Random"
   ]
  },
  {
   "cell_type": "markdown",
   "metadata": {},
   "source": [
    "## define constructor of KalmanFilter\n",
    "define Equation of state and Equation of observation as follows:\n",
    "$$\n",
    "x_k = A_k x_{k-1} + B_k u_k + w_k  \\\\\n",
    "z_k = C_k x_k + v_k\n",
    "$$\n",
    "$ w_k $ and $ v_k $ is gaussian noise:\n",
    "$$\n",
    "w_k \\sim  N(0, Q_k)   \\\\\n",
    "v_k \\sim N(0, R_k)\n",
    "$$"
   ]
  },
  {
   "cell_type": "code",
   "execution_count": 2,
   "metadata": {},
   "outputs": [
    {
     "ename": "ErrorException",
     "evalue": "syntax: optional positional arguments must occur at end",
     "output_type": "error",
     "traceback": [
      "syntax: optional positional arguments must occur at end",
      ""
     ]
    }
   ],
   "source": [
    "# constructor of time-invariant system (F,G,H,Q,R is constant)\n",
    "mutable struct KF\n",
    "    # system dynamics matrices\n",
    "    A::Array{Float64}       # EOS\n",
    "    B::Array{Float64}       # controll\n",
    "    C::Array{Float64}       # EOO\n",
    "    Q::Array{Float64}       # drive noise\n",
    "    R::Array{Float64}       # observation noise\n",
    "    # old state of system (or initial state at construction)\n",
    "    x_old::Vector{Float64}\n",
    "    P_old::Array{Float64}\n",
    "end\n",
    "# in case you consider the time-variant system, you have to access the members of this struct consequently\n",
    "function KF(kf::KF, A, B, C, Q, R)\n",
    "    # update time-variant system dynamics\n",
    "    kf.A = A\n",
    "    kf.B = B\n",
    "    kf.C = C\n",
    "    kf.Q = Q\n",
    "    kf.R = R\n",
    "    return kf\n",
    "end"
   ]
  },
  {
   "cell_type": "code",
   "execution_count": 3,
   "metadata": {},
   "outputs": [
    {
     "data": {
      "text/plain": [
       "KF_EoO (generic function with 2 methods)"
      ]
     },
     "execution_count": 3,
     "metadata": {},
     "output_type": "execute_result"
    }
   ],
   "source": [
    "# Equation of State\n",
    "KF_EoS(kf::KF, x::Vector{Float64}, u=zeros(length(x)), w=zeros(length(x))) = kf.A*x + kf.B*u + w\n",
    "# Equation of Observation\n",
    "KF_EoO(kf::KF, x::Vector{Float64}, v=zeros(length(kf.C*x))) = kf.C*x + v"
   ]
  },
  {
   "cell_type": "markdown",
   "metadata": {},
   "source": [
    "## update of state\n",
    "Prediction of state:\n",
    "$$\n",
    "\\hat{\\boldsymbol{x}}_{k|k-1} = A_k \\hat{\\boldsymbol{x}}_{k-1|k-1} + B_k \\boldsymbol{u}_{k}  \\qquad \\textrm{: prediction of state}\\\\\n",
    "P_{k|k-1} = A_k P_{k-1|k-1} A_k^T + Q_k  \\quad \\textrm{: prediction of error matrix}\n",
    "$$\n",
    "\n",
    "Update of state:\n",
    "$$\n",
    "\\boldsymbol{e}_{k} = \\boldsymbol{z}_{k} - C_k \\hat{\\boldsymbol{x}}_{k|k-1}    \\quad \\textrm{: innovation}\\\\\n",
    "S_k = R_k + C_k P_{k|k-1} C_k^T   \\quad \\textrm{: covariance matrix of innovation}\\\\\n",
    "K_k = P_{k|k-1} C_k^T S_k^{-1}      \\quad \\textrm{: optimal Kalman gain}\\\\\n",
    "\\hat{\\boldsymbol{x}}_{k|k} = \\hat{\\boldsymbol{x}}_{k|k-1}  + K_k\\boldsymbol{e}_{k}     \\quad \\textrm{: updated state prediction}\\\\\n",
    "P_{k|k} = (I-K_kC_k) P_{k|k-1}    \\quad \\textrm{: updated error matrix}\n",
    "$$"
   ]
  },
  {
   "cell_type": "code",
   "execution_count": 4,
   "metadata": {},
   "outputs": [
    {
     "data": {
      "text/plain": [
       "KalmanFilter (generic function with 2 methods)"
      ]
     },
     "execution_count": 4,
     "metadata": {},
     "output_type": "execute_result"
    }
   ],
   "source": [
    "# Estimation of Stable dynamics (using linear kalman filter) \n",
    "# default : no controll variable\n",
    "function KalmanFilter(kf::KF, x::Vector{Float64}, u=zeros(length(x)))\n",
    "    # Prediction of older filter\n",
    "#     x_predicted = kf.A * kf.x_old + kf.B * u\n",
    "    x_predicted = KF_EoS(kf, x=kf.x_old)\n",
    "    P_predicted = kf.A * kf.P_old * transpose(kf.A) + kf.Q\n",
    "    \n",
    "    # update filter\n",
    "    C_T = transpose(kf.C)\n",
    "#     e = x - kf.C * x_predicted\n",
    "    e = x - KF_EoO(kf, x_predicted)\n",
    "    S = kf.R + kf.C * P_predicted * C_T\n",
    "    @assert Sinv = inv(S)\n",
    "    K = P_predicted * C_T * Sinv\n",
    "    x_updated = x_predicted + K*e\n",
    "    nm = length(x)\n",
    "    I = Matrix{Float64}(I, nm, nm)\n",
    "    P_updated = (I - K*C) * P_predicted\n",
    "    \n",
    "    kf.x_old = x_updated\n",
    "    kf.P_old = P_updated\n",
    "    return x_updated, P_updated\n",
    "end"
   ]
  },
  {
   "cell_type": "markdown",
   "metadata": {},
   "source": [
    "## example : state estimation of moving trocco\n",
    "assumptions:\n",
    "- no control\n",
    "- time invariant\n",
    "- accurate initial state\n",
    "\n",
    "state is represented as :\n",
    "$$\n",
    "\\boldsymbol{x}_k = \n",
    " \\left[\\begin{array}{c}\n",
    "            x_k \\\\\n",
    "            \\dot{x}_k \\\\\n",
    "        \\end{array}\\right]\n",
    "$$\n",
    "acceralation $ a_k \\sim N(0,\\sigma_a) $ is given between time $k$ and  $k-1$. System dynamics is represented  as :\n",
    "$$\n",
    "\\boldsymbol{x}_k = A \\boldsymbol{x}_{k-1} + G a_k \\\\\n",
    "A = \n",
    "\\left[\\begin{array}{cc}\n",
    "            % 横並びは&を挟む\n",
    "            1 & \\Delta t\\\\\n",
    "            0 & 1\\\\\n",
    "        \\end{array}\\right]\\\\\n",
    "G = \n",
    " \\left[\\begin{array}{c}\n",
    "            \\frac{\\Delta t^2}{2} \\\\\n",
    "             \\Delta t\\\\\n",
    "         \\end{array}\\right]  \\\\\n",
    "a_k \\sim N(0, \\sigma_a) \\\\\n",
    "Q = Cov(G a_k) = \\sigma_a^2 \\times\n",
    "\\left[\\begin{array}{cc}\n",
    "            % 横並びは&を挟む\n",
    "            \\frac{\\Delta t^4}{4} & \\frac{\\Delta t^3}{2}\\\\\n",
    "            \\frac{\\Delta t^3}{2} & \\Delta t^2\\\\\n",
    "        \\end{array}\\right]\n",
    "$$\n",
    "observation of position $ x_k $ is represented by observation error as:\n",
    "$$\n",
    "z_k = C \\boldsymbol{x}_{k}+\\boldsymbol{v}_{k}  \\\\\n",
    "C = \\left[\\begin{array}{cc}\n",
    "            1 & 0\\\\\n",
    "        \\end{array}\\right]\\\\\n",
    "v_k \\sim N(0, \\sigma_z) \\\\\n",
    "R = \n",
    "\\mathrm{E}\\left(\\boldsymbol{v}_{k} \\boldsymbol{v}_{k}^{\\mathrm{T}}\\right)=\\left[\\sigma_{z}^{2}\\right]\n",
    "$$\n"
   ]
  },
  {
   "cell_type": "code",
   "execution_count": 5,
   "metadata": {},
   "outputs": [
    {
     "data": {
      "text/plain": [
       "1-element Array{Float64,1}:\n",
       " 0.010000000000000002"
      ]
     },
     "execution_count": 5,
     "metadata": {},
     "output_type": "execute_result"
    }
   ],
   "source": [
    "x₀ = [0., 0.]\n",
    "P₀ = [0. 0. ; 0. 0.]\n",
    "σₐ = 0.1\n",
    "σ₀ = 0.1\n",
    "Δt = 0.1              # [sec]\n",
    "A = [1. Δt ; 0. 1.]\n",
    "B = [1. 0.; 0. 1.]      # not specified because u is zero vector\n",
    "Q = σₐ^2 .* [Δt^4/4 Δt^3/2; Δt^3/2 Δt^2]\n",
    "# Q = σₐ^2 * [Δt^4/4 0.; Δt^3/2 Δt^2]\n",
    "C = [1 0]\n",
    "R = [σ₀^2]"
   ]
  },
  {
   "cell_type": "code",
   "execution_count": 6,
   "metadata": {},
   "outputs": [
    {
     "data": {
      "text/plain": [
       "KF([1.0 0.1; 0.0 1.0], [1.0 0.0; 0.0 1.0], [1.0 0.0], [2.5e-7 5.0e-6; 5.0e-6 0.0001], [0.01], [0.0, 0.0], [0.0 0.0; 0.0 0.0])"
      ]
     },
     "execution_count": 6,
     "metadata": {},
     "output_type": "execute_result"
    }
   ],
   "source": [
    "KF(A, B, C, Q, R, x₀, P₀)"
   ]
  },
  {
   "cell_type": "code",
   "execution_count": null,
   "metadata": {},
   "outputs": [],
   "source": []
  },
  {
   "cell_type": "code",
   "execution_count": 19,
   "metadata": {},
   "outputs": [
    {
     "data": {
      "text/plain": [
       "retcode: Success\n",
       "Interpolation: 1st order linear\n",
       "t: 57-element Array{Float64,1}:\n",
       " 0.0                \n",
       " 0.1                \n",
       " 0.12000000000000001\n",
       " 0.14250000000000002\n",
       " 0.16781250000000003\n",
       " 0.19628906250000003\n",
       " 0.21981325877741453\n",
       " 0.24627797958950584\n",
       " 0.27586130662066327\n",
       " 0.30371594383123507\n",
       " 0.3288793137231732 \n",
       " 0.3528426316317116 \n",
       " 0.375809172853539  \n",
       " ⋮                  \n",
       " 0.8927812889686254 \n",
       " 0.9034891292880898 \n",
       " 0.9142245431171292 \n",
       " 0.924888938408803  \n",
       " 0.9355304446715053 \n",
       " 0.946025231382212  \n",
       " 0.9565153742823411 \n",
       " 0.9668190464444821 \n",
       " 0.9771830463220231 \n",
       " 0.9872082287603603 \n",
       " 0.9970748032833612 \n",
       " 1.0                \n",
       "u: 57-element Array{Array{Float64,1},1}:\n",
       " [0.0, 0.0]               \n",
       " [-0.00281672, 0.0145692] \n",
       " [-0.00287412, 0.02258]   \n",
       " [-0.00317764, 0.00164448]\n",
       " [-0.0038003, -0.0130808] \n",
       " [-0.00464249, -0.0299824]\n",
       " [-0.00546113, -0.0309065]\n",
       " [-0.00479941, -0.047429] \n",
       " [-0.00534216, -0.0726347]\n",
       " [-0.00640648, -0.0972004]\n",
       " [-0.00578044, -0.115277] \n",
       " [-0.00664264, -0.0933487]\n",
       " [-0.00738486, -0.0980642]\n",
       " ⋮                        \n",
       " [-0.0260042, -0.250818]  \n",
       " [-0.0273141, -0.248381]  \n",
       " [-0.0279972, -0.237086]  \n",
       " [-0.028548, -0.246073]   \n",
       " [-0.0293217, -0.243153]  \n",
       " [-0.029975, -0.251798]   \n",
       " [-0.0315245, -0.245108]  \n",
       " [-0.0324353, -0.264229]  \n",
       " [-0.0336099, -0.270846]  \n",
       " [-0.0344724, -0.295145]  \n",
       " [-0.0353747, -0.291152]  \n",
       " [-0.0352551, -0.296916]  "
      ]
     },
     "execution_count": 19,
     "metadata": {},
     "output_type": "execute_result"
    }
   ],
   "source": [
    "W = WienerProcess(0., 0.)\n",
    "W.dt=Δt\n",
    "funcF(u,p,t) = F * u          # p[0] = F : system dynamics F\n",
    "funcG(u,p,t) = G             # p[1] = G : noise matrix\n",
    "tspan = (0., 1.)\n",
    "\n",
    "prob = SDEProblem(funcF, funcG, x₀, tspan)#, noise=W)\n",
    "# Generate Gaussian noise array\n",
    "sol_a = solve(prob; dt=0.1)\n",
    "sol_z = solve(prob; dt=0.1)"
   ]
  },
  {
   "cell_type": "code",
   "execution_count": 17,
   "metadata": {},
   "outputs": [
    {
     "data": {
      "text/plain": [
       "8-element Array{Float64,1}:\n",
       " 0.0                \n",
       " 0.1                \n",
       " 0.21250000000000002\n",
       " 0.336732182158669  \n",
       " 0.47649338708717165\n",
       " 0.6337247426317372 \n",
       " 0.8106100176193733 \n",
       " 1.0                "
      ]
     },
     "execution_count": 17,
     "metadata": {},
     "output_type": "execute_result"
    }
   ],
   "source": [
    "sol_a.t"
   ]
  },
  {
   "cell_type": "code",
   "execution_count": 10,
   "metadata": {},
   "outputs": [
    {
     "data": {
      "text/plain": [
       "Array{Int64,2}"
      ]
     },
     "execution_count": 10,
     "metadata": {},
     "output_type": "execute_result"
    }
   ],
   "source": [
    "c=[1 2 3]\n",
    "typeof(c)"
   ]
  },
  {
   "cell_type": "code",
   "execution_count": 11,
   "metadata": {},
   "outputs": [
    {
     "data": {
      "text/plain": [
       "8×8 Array{Float64,2}:\n",
       " 1.0  0.0  0.0  0.0  0.0  0.0  0.0  0.0\n",
       " 0.0  1.0  0.0  0.0  0.0  0.0  0.0  0.0\n",
       " 0.0  0.0  1.0  0.0  0.0  0.0  0.0  0.0\n",
       " 0.0  0.0  0.0  1.0  0.0  0.0  0.0  0.0\n",
       " 0.0  0.0  0.0  0.0  1.0  0.0  0.0  0.0\n",
       " 0.0  0.0  0.0  0.0  0.0  1.0  0.0  0.0\n",
       " 0.0  0.0  0.0  0.0  0.0  0.0  1.0  0.0\n",
       " 0.0  0.0  0.0  0.0  0.0  0.0  0.0  1.0"
      ]
     },
     "execution_count": 11,
     "metadata": {},
     "output_type": "execute_result"
    }
   ],
   "source": [
    "nm=8\n",
    "Matrix{Float64}(I, nm, nm)"
   ]
  },
  {
   "cell_type": "code",
   "execution_count": 8,
   "metadata": {},
   "outputs": [
    {
     "data": {
      "text/plain": [
       "t: 1-element Array{Float64,1}:\n",
       " 0.0\n",
       "u: 1-element Array{Float64,1}:\n",
       " 1.0"
      ]
     },
     "execution_count": 8,
     "metadata": {},
     "output_type": "execute_result"
    }
   ],
   "source": [
    "μₐ = 0.\n",
    "σₐ = 1.0\n",
    "W = WienerProcess(μₐ, σₐ)"
   ]
  },
  {
   "cell_type": "code",
   "execution_count": 23,
   "metadata": {},
   "outputs": [
    {
     "data": {
      "text/plain": [
       "0.1"
      ]
     },
     "execution_count": 23,
     "metadata": {},
     "output_type": "execute_result"
    }
   ],
   "source": [
    "W.dt=0.1"
   ]
  },
  {
   "cell_type": "code",
   "execution_count": 24,
   "metadata": {},
   "outputs": [],
   "source": [
    "setup_next_step!(W)"
   ]
  },
  {
   "cell_type": "code",
   "execution_count": 25,
   "metadata": {},
   "outputs": [],
   "source": [
    "for i in 1:10\n",
    "    accept_step!(W,0.1)\n",
    "end"
   ]
  },
  {
   "cell_type": "code",
   "execution_count": 26,
   "metadata": {},
   "outputs": [
    {
     "data": {
      "text/plain": [
       "t: 11-element Array{Float64,1}:\n",
       " 0.0                \n",
       " 0.1                \n",
       " 0.2                \n",
       " 0.30000000000000004\n",
       " 0.4                \n",
       " 0.5                \n",
       " 0.6                \n",
       " 0.7                \n",
       " 0.7999999999999999 \n",
       " 0.8999999999999999 \n",
       " 0.9999999999999999 \n",
       "u: 11-element Array{Float64,1}:\n",
       " 1.0               \n",
       " 1.494424817457554 \n",
       " 1.4519739125180853\n",
       " 2.13354179862944  \n",
       " 2.139282297633093 \n",
       " 2.681464557006798 \n",
       " 2.6498555558091055\n",
       " 2.915176633408406 \n",
       " 3.4802420384703163\n",
       " 3.7164775442634483\n",
       " 3.477420466948584 "
      ]
     },
     "execution_count": 26,
     "metadata": {},
     "output_type": "execute_result"
    }
   ],
   "source": [
    "W"
   ]
  },
  {
   "cell_type": "code",
   "execution_count": 21,
   "metadata": {},
   "outputs": [
    {
     "data": {
      "text/plain": [
       "1.9144253901541095"
      ]
     },
     "execution_count": 21,
     "metadata": {},
     "output_type": "execute_result"
    }
   ],
   "source": [
    "W[3]"
   ]
  },
  {
   "cell_type": "code",
   "execution_count": 29,
   "metadata": {},
   "outputs": [
    {
     "name": "stdout",
     "output_type": "stream",
     "text": [
      "search: \u001b[0m\u001b[1mW\u001b[22m\u001b[0m\u001b[1mi\u001b[22m\u001b[0m\u001b[1me\u001b[22m\u001b[0m\u001b[1mn\u001b[22m\u001b[0m\u001b[1me\u001b[22m\u001b[0m\u001b[1mr\u001b[22m\u001b[0m\u001b[1mP\u001b[22m\u001b[0m\u001b[1mr\u001b[22m\u001b[0m\u001b[1mo\u001b[22m\u001b[0m\u001b[1mc\u001b[22m\u001b[0m\u001b[1me\u001b[22m\u001b[0m\u001b[1ms\u001b[22m\u001b[0m\u001b[1ms\u001b[22m \u001b[0m\u001b[1mW\u001b[22m\u001b[0m\u001b[1mi\u001b[22m\u001b[0m\u001b[1me\u001b[22m\u001b[0m\u001b[1mn\u001b[22m\u001b[0m\u001b[1me\u001b[22m\u001b[0m\u001b[1mr\u001b[22m\u001b[0m\u001b[1mP\u001b[22m\u001b[0m\u001b[1mr\u001b[22m\u001b[0m\u001b[1mo\u001b[22m\u001b[0m\u001b[1mc\u001b[22m\u001b[0m\u001b[1me\u001b[22m\u001b[0m\u001b[1ms\u001b[22m\u001b[0m\u001b[1ms\u001b[22m! Real\u001b[0m\u001b[1mW\u001b[22m\u001b[0m\u001b[1mi\u001b[22m\u001b[0m\u001b[1me\u001b[22m\u001b[0m\u001b[1mn\u001b[22m\u001b[0m\u001b[1me\u001b[22m\u001b[0m\u001b[1mr\u001b[22m\u001b[0m\u001b[1mP\u001b[22m\u001b[0m\u001b[1mr\u001b[22m\u001b[0m\u001b[1mo\u001b[22m\u001b[0m\u001b[1mc\u001b[22m\u001b[0m\u001b[1me\u001b[22m\u001b[0m\u001b[1ms\u001b[22m\u001b[0m\u001b[1ms\u001b[22m Real\u001b[0m\u001b[1mW\u001b[22m\u001b[0m\u001b[1mi\u001b[22m\u001b[0m\u001b[1me\u001b[22m\u001b[0m\u001b[1mn\u001b[22m\u001b[0m\u001b[1me\u001b[22m\u001b[0m\u001b[1mr\u001b[22m\u001b[0m\u001b[1mP\u001b[22m\u001b[0m\u001b[1mr\u001b[22m\u001b[0m\u001b[1mo\u001b[22m\u001b[0m\u001b[1mc\u001b[22m\u001b[0m\u001b[1me\u001b[22m\u001b[0m\u001b[1ms\u001b[22m\u001b[0m\u001b[1ms\u001b[22m!\n",
      "\n"
     ]
    },
    {
     "data": {
      "text/latex": [
       "No documentation found.\n",
       "\n",
       "\\texttt{DiffEqNoiseProcess.WienerProcess} is a \\texttt{Function}.\n",
       "\n",
       "\\begin{verbatim}\n",
       "# 2 methods for generic function \"WienerProcess\":\n",
       "[1] WienerProcess(t0, W0) in DiffEqNoiseProcess at /Users/mickn/.julia/packages/DiffEqNoiseProcess/SCC7m/src/wiener.jl:38\n",
       "[2] WienerProcess(t0, W0, Z0; kwargs...) in DiffEqNoiseProcess at /Users/mickn/.julia/packages/DiffEqNoiseProcess/SCC7m/src/wiener.jl:38\n",
       "\\end{verbatim}\n"
      ],
      "text/markdown": [
       "No documentation found.\n",
       "\n",
       "`DiffEqNoiseProcess.WienerProcess` is a `Function`.\n",
       "\n",
       "```\n",
       "# 2 methods for generic function \"WienerProcess\":\n",
       "[1] WienerProcess(t0, W0) in DiffEqNoiseProcess at /Users/mickn/.julia/packages/DiffEqNoiseProcess/SCC7m/src/wiener.jl:38\n",
       "[2] WienerProcess(t0, W0, Z0; kwargs...) in DiffEqNoiseProcess at /Users/mickn/.julia/packages/DiffEqNoiseProcess/SCC7m/src/wiener.jl:38\n",
       "```\n"
      ],
      "text/plain": [
       "  No documentation found.\n",
       "\n",
       "  \u001b[36mDiffEqNoiseProcess.WienerProcess\u001b[39m is a \u001b[36mFunction\u001b[39m.\n",
       "\n",
       "\u001b[36m  # 2 methods for generic function \"WienerProcess\":\u001b[39m\n",
       "\u001b[36m  [1] WienerProcess(t0, W0) in DiffEqNoiseProcess at /Users/mickn/.julia/packages/DiffEqNoiseProcess/SCC7m/src/wiener.jl:38\u001b[39m\n",
       "\u001b[36m  [2] WienerProcess(t0, W0, Z0; kwargs...) in DiffEqNoiseProcess at /Users/mickn/.julia/packages/DiffEqNoiseProcess/SCC7m/src/wiener.jl:38\u001b[39m"
      ]
     },
     "execution_count": 29,
     "metadata": {},
     "output_type": "execute_result"
    }
   ],
   "source": [
    "?WienerProcess"
   ]
  },
  {
   "cell_type": "code",
   "execution_count": 84,
   "metadata": {},
   "outputs": [
    {
     "data": {
      "text/plain": [
       "NoiseProblem with WType Float64 and tType Float64. In-place: false\n",
       "timespan: (0.0, 1.0)\n"
      ]
     },
     "execution_count": 84,
     "metadata": {},
     "output_type": "execute_result"
    }
   ],
   "source": []
  },
  {
   "cell_type": "code",
   "execution_count": 85,
   "metadata": {},
   "outputs": [
    {
     "data": {
      "text/plain": [
       "t: 11-element Array{Float64,1}:\n",
       " 0.0                \n",
       " 0.1                \n",
       " 0.2                \n",
       " 0.30000000000000004\n",
       " 0.4                \n",
       " 0.5                \n",
       " 0.6                \n",
       " 0.7                \n",
       " 0.7999999999999999 \n",
       " 0.8999999999999999 \n",
       " 0.9999999999999999 \n",
       "u: 11-element Array{Float64,1}:\n",
       "  0.0                \n",
       " -0.5920160457735009 \n",
       " -0.13022507116415016\n",
       " -0.1105157444528081 \n",
       " -0.6312050093152479 \n",
       " -0.8132850204999547 \n",
       " -0.6918540390601564 \n",
       " -0.7779590949380468 \n",
       " -0.2972752779578653 \n",
       " -0.3074829139797742 \n",
       " -0.5357910998021775 "
      ]
     },
     "execution_count": 85,
     "metadata": {},
     "output_type": "execute_result"
    }
   ],
   "source": []
  },
  {
   "cell_type": "code",
   "execution_count": 83,
   "metadata": {},
   "outputs": [
    {
     "data": {
      "text/plain": [
       "2-element Array{Float64,1}:\n",
       " 0.0\n",
       " 0.0"
      ]
     },
     "execution_count": 83,
     "metadata": {},
     "output_type": "execute_result"
    }
   ],
   "source": [
    "# plot(sol_a.u[0], sol_a.u[1])\n",
    "# plot!(sol_z.u)\n",
    "# plot(sol_a.t, sol_a.u)\n",
    "# plot!(sol_z.t, sol_z.u)\n"
   ]
  },
  {
   "cell_type": "code",
   "execution_count": 7,
   "metadata": {},
   "outputs": [
    {
     "ename": "TypeError",
     "evalue": "TypeError: in Type, in parameter, expected Type, got Array{Float64,2}",
     "output_type": "error",
     "traceback": [
      "TypeError: in Type, in parameter, expected Type, got Array{Float64,2}",
      "",
      "Stacktrace:",
      " [1] top-level scope at In[7]:1"
     ]
    }
   ],
   "source": [
    "a = MvNormal{Q, zeros(length(x₀))}"
   ]
  },
  {
   "cell_type": "code",
   "execution_count": 9,
   "metadata": {
    "scrolled": true
   },
   "outputs": [
    {
     "data": {
      "text/plain": [
       "DiagNormal(\n",
       "dim: 1\n",
       "μ: [0.0]\n",
       "Σ: [0.0001]\n",
       ")\n"
      ]
     },
     "execution_count": 9,
     "metadata": {},
     "output_type": "execute_result"
    }
   ],
   "source": [
    "# b = MvNormal(zeros(2), Q)\n",
    "b = MvNormal(zeros(1), R)"
   ]
  },
  {
   "cell_type": "code",
   "execution_count": 9,
   "metadata": {},
   "outputs": [
    {
     "data": {
      "text/plain": [
       "2×2 Array{Float64,2}:\n",
       " 2.5e-7  5.0e-6\n",
       " 5.0e-6  0.0001"
      ]
     },
     "execution_count": 9,
     "metadata": {},
     "output_type": "execute_result"
    }
   ],
   "source": [
    "Q"
   ]
  },
  {
   "cell_type": "code",
   "execution_count": 36,
   "metadata": {},
   "outputs": [
    {
     "data": {
      "text/plain": [
       "NoiseFunction{Array{Float64,1},1,typeof(f),Nothing,Float64,Array{Float64,1},Nothing,false}(f, nothing, 1.0, [0.209417, 0.122522, 0.888787, 0.583571], nothing, 1.0, [0.209417, 0.122522, 0.888787, 0.583571], nothing, true)"
      ]
     },
     "execution_count": 36,
     "metadata": {},
     "output_type": "execute_result"
    }
   ],
   "source": [
    "f(t) = exp(t)\n",
    "W = NoiseFunction(1.0,f, noise_prototype=rand(4))"
   ]
  },
  {
   "cell_type": "code",
   "execution_count": 37,
   "metadata": {},
   "outputs": [
    {
     "data": {
      "text/plain": [
       "31-element Array{Float64,1}:\n",
       " 0.0\n",
       " 0.1\n",
       " 0.2\n",
       " 0.3\n",
       " 0.4\n",
       " 0.5\n",
       " 0.6\n",
       " 0.7\n",
       " 0.8\n",
       " 0.9\n",
       " 1.0\n",
       " 1.1\n",
       " 1.2\n",
       " ⋮  \n",
       " 1.9\n",
       " 2.0\n",
       " 2.1\n",
       " 2.2\n",
       " 2.3\n",
       " 2.4\n",
       " 2.5\n",
       " 2.6\n",
       " 2.7\n",
       " 2.8\n",
       " 2.9\n",
       " 3.0"
      ]
     },
     "execution_count": 37,
     "metadata": {},
     "output_type": "execute_result"
    }
   ],
   "source": [
    "k = 0.:0.1:3.\n",
    "x  = collect(k)"
   ]
  },
  {
   "cell_type": "code",
   "execution_count": 38,
   "metadata": {
    "scrolled": true
   },
   "outputs": [
    {
     "data": {
      "text/plain": [
       "true"
      ]
     },
     "execution_count": 38,
     "metadata": {},
     "output_type": "execute_result"
    }
   ],
   "source": [
    "xx = f.(x)\n",
    "yy = exp.(x)\n",
    "xx==yy"
   ]
  },
  {
   "cell_type": "code",
   "execution_count": 39,
   "metadata": {},
   "outputs": [
    {
     "data": {
      "image/svg+xml": [
       "<?xml version=\"1.0\" encoding=\"utf-8\"?>\n",
       "<svg xmlns=\"http://www.w3.org/2000/svg\" xmlns:xlink=\"http://www.w3.org/1999/xlink\" width=\"600\" height=\"400\" viewBox=\"0 0 2400 1600\">\n",
       "<defs>\n",
       "  <clipPath id=\"clip3700\">\n",
       "    <rect x=\"0\" y=\"0\" width=\"2400\" height=\"1600\"/>\n",
       "  </clipPath>\n",
       "</defs>\n",
       "<polygon clip-path=\"url(#clip3700)\" points=\"\n",
       "0,1600 2400,1600 2400,0 0,0 \n",
       "  \" fill=\"#ffffff\" fill-rule=\"evenodd\" fill-opacity=\"1\"/>\n",
       "<defs>\n",
       "  <clipPath id=\"clip3701\">\n",
       "    <rect x=\"480\" y=\"0\" width=\"1681\" height=\"1600\"/>\n",
       "  </clipPath>\n",
       "</defs>\n",
       "<polygon clip-path=\"url(#clip3700)\" points=\"\n",
       "140.517,1487.47 2352.76,1487.47 2352.76,47.2441 140.517,47.2441 \n",
       "  \" fill=\"#ffffff\" fill-rule=\"evenodd\" fill-opacity=\"1\"/>\n",
       "<defs>\n",
       "  <clipPath id=\"clip3702\">\n",
       "    <rect x=\"140\" y=\"47\" width=\"2213\" height=\"1441\"/>\n",
       "  </clipPath>\n",
       "</defs>\n",
       "<polyline clip-path=\"url(#clip3702)\" style=\"stroke:#000000; stroke-width:2; stroke-opacity:0.1; fill:none\" points=\"\n",
       "  203.127,1487.47 203.127,47.2441 \n",
       "  \"/>\n",
       "<polyline clip-path=\"url(#clip3702)\" style=\"stroke:#000000; stroke-width:2; stroke-opacity:0.1; fill:none\" points=\"\n",
       "  898.8,1487.47 898.8,47.2441 \n",
       "  \"/>\n",
       "<polyline clip-path=\"url(#clip3702)\" style=\"stroke:#000000; stroke-width:2; stroke-opacity:0.1; fill:none\" points=\"\n",
       "  1594.47,1487.47 1594.47,47.2441 \n",
       "  \"/>\n",
       "<polyline clip-path=\"url(#clip3702)\" style=\"stroke:#000000; stroke-width:2; stroke-opacity:0.1; fill:none\" points=\"\n",
       "  2290.15,1487.47 2290.15,47.2441 \n",
       "  \"/>\n",
       "<polyline clip-path=\"url(#clip3702)\" style=\"stroke:#000000; stroke-width:2; stroke-opacity:0.1; fill:none\" points=\"\n",
       "  140.517,1161.95 2352.76,1161.95 \n",
       "  \"/>\n",
       "<polyline clip-path=\"url(#clip3702)\" style=\"stroke:#000000; stroke-width:2; stroke-opacity:0.1; fill:none\" points=\"\n",
       "  140.517,805.999 2352.76,805.999 \n",
       "  \"/>\n",
       "<polyline clip-path=\"url(#clip3702)\" style=\"stroke:#000000; stroke-width:2; stroke-opacity:0.1; fill:none\" points=\"\n",
       "  140.517,450.047 2352.76,450.047 \n",
       "  \"/>\n",
       "<polyline clip-path=\"url(#clip3702)\" style=\"stroke:#000000; stroke-width:2; stroke-opacity:0.1; fill:none\" points=\"\n",
       "  140.517,94.0948 2352.76,94.0948 \n",
       "  \"/>\n",
       "<polyline clip-path=\"url(#clip3700)\" style=\"stroke:#000000; stroke-width:4; stroke-opacity:1; fill:none\" points=\"\n",
       "  140.517,1487.47 2352.76,1487.47 \n",
       "  \"/>\n",
       "<polyline clip-path=\"url(#clip3700)\" style=\"stroke:#000000; stroke-width:4; stroke-opacity:1; fill:none\" points=\"\n",
       "  140.517,1487.47 140.517,47.2441 \n",
       "  \"/>\n",
       "<polyline clip-path=\"url(#clip3700)\" style=\"stroke:#000000; stroke-width:4; stroke-opacity:1; fill:none\" points=\"\n",
       "  203.127,1487.47 203.127,1465.87 \n",
       "  \"/>\n",
       "<polyline clip-path=\"url(#clip3700)\" style=\"stroke:#000000; stroke-width:4; stroke-opacity:1; fill:none\" points=\"\n",
       "  898.8,1487.47 898.8,1465.87 \n",
       "  \"/>\n",
       "<polyline clip-path=\"url(#clip3700)\" style=\"stroke:#000000; stroke-width:4; stroke-opacity:1; fill:none\" points=\"\n",
       "  1594.47,1487.47 1594.47,1465.87 \n",
       "  \"/>\n",
       "<polyline clip-path=\"url(#clip3700)\" style=\"stroke:#000000; stroke-width:4; stroke-opacity:1; fill:none\" points=\"\n",
       "  2290.15,1487.47 2290.15,1465.87 \n",
       "  \"/>\n",
       "<polyline clip-path=\"url(#clip3700)\" style=\"stroke:#000000; stroke-width:4; stroke-opacity:1; fill:none\" points=\"\n",
       "  140.517,1161.95 173.7,1161.95 \n",
       "  \"/>\n",
       "<polyline clip-path=\"url(#clip3700)\" style=\"stroke:#000000; stroke-width:4; stroke-opacity:1; fill:none\" points=\"\n",
       "  140.517,805.999 173.7,805.999 \n",
       "  \"/>\n",
       "<polyline clip-path=\"url(#clip3700)\" style=\"stroke:#000000; stroke-width:4; stroke-opacity:1; fill:none\" points=\"\n",
       "  140.517,450.047 173.7,450.047 \n",
       "  \"/>\n",
       "<polyline clip-path=\"url(#clip3700)\" style=\"stroke:#000000; stroke-width:4; stroke-opacity:1; fill:none\" points=\"\n",
       "  140.517,94.0948 173.7,94.0948 \n",
       "  \"/>\n",
       "<g clip-path=\"url(#clip3700)\">\n",
       "<text style=\"fill:#000000; fill-opacity:1; font-family:Arial,Helvetica Neue,Helvetica,sans-serif; font-size:48px; text-anchor:middle;\" transform=\"rotate(0, 203.127, 1541.47)\" x=\"203.127\" y=\"1541.47\">0</text>\n",
       "</g>\n",
       "<g clip-path=\"url(#clip3700)\">\n",
       "<text style=\"fill:#000000; fill-opacity:1; font-family:Arial,Helvetica Neue,Helvetica,sans-serif; font-size:48px; text-anchor:middle;\" transform=\"rotate(0, 898.8, 1541.47)\" x=\"898.8\" y=\"1541.47\">1</text>\n",
       "</g>\n",
       "<g clip-path=\"url(#clip3700)\">\n",
       "<text style=\"fill:#000000; fill-opacity:1; font-family:Arial,Helvetica Neue,Helvetica,sans-serif; font-size:48px; text-anchor:middle;\" transform=\"rotate(0, 1594.47, 1541.47)\" x=\"1594.47\" y=\"1541.47\">2</text>\n",
       "</g>\n",
       "<g clip-path=\"url(#clip3700)\">\n",
       "<text style=\"fill:#000000; fill-opacity:1; font-family:Arial,Helvetica Neue,Helvetica,sans-serif; font-size:48px; text-anchor:middle;\" transform=\"rotate(0, 2290.15, 1541.47)\" x=\"2290.15\" y=\"1541.47\">3</text>\n",
       "</g>\n",
       "<g clip-path=\"url(#clip3700)\">\n",
       "<text style=\"fill:#000000; fill-opacity:1; font-family:Arial,Helvetica Neue,Helvetica,sans-serif; font-size:48px; text-anchor:end;\" transform=\"rotate(0, 116.517, 1179.45)\" x=\"116.517\" y=\"1179.45\">5</text>\n",
       "</g>\n",
       "<g clip-path=\"url(#clip3700)\">\n",
       "<text style=\"fill:#000000; fill-opacity:1; font-family:Arial,Helvetica Neue,Helvetica,sans-serif; font-size:48px; text-anchor:end;\" transform=\"rotate(0, 116.517, 823.499)\" x=\"116.517\" y=\"823.499\">10</text>\n",
       "</g>\n",
       "<g clip-path=\"url(#clip3700)\">\n",
       "<text style=\"fill:#000000; fill-opacity:1; font-family:Arial,Helvetica Neue,Helvetica,sans-serif; font-size:48px; text-anchor:end;\" transform=\"rotate(0, 116.517, 467.547)\" x=\"116.517\" y=\"467.547\">15</text>\n",
       "</g>\n",
       "<g clip-path=\"url(#clip3700)\">\n",
       "<text style=\"fill:#000000; fill-opacity:1; font-family:Arial,Helvetica Neue,Helvetica,sans-serif; font-size:48px; text-anchor:end;\" transform=\"rotate(0, 116.517, 111.595)\" x=\"116.517\" y=\"111.595\">20</text>\n",
       "</g>\n",
       "<polyline clip-path=\"url(#clip3702)\" style=\"stroke:#009af9; stroke-width:4; stroke-opacity:1; fill:none\" points=\"\n",
       "  203.127,1446.71 272.695,1439.23 342.262,1430.95 411.829,1421.81 481.396,1411.7 550.964,1400.53 620.531,1388.19 690.098,1374.54 759.665,1359.47 829.233,1342.8 \n",
       "  898.8,1324.39 968.367,1304.04 1037.93,1281.54 1107.5,1256.69 1177.07,1229.21 1246.64,1198.85 1316.2,1165.3 1385.77,1128.21 1455.34,1087.23 1524.91,1041.93 \n",
       "  1594.47,991.874 1664.04,936.551 1733.61,875.409 1803.17,807.837 1872.74,733.159 1942.31,650.627 2011.88,559.414 2081.44,458.609 2151.01,347.202 2220.58,224.078 \n",
       "  2290.15,88.0053 \n",
       "  \"/>\n",
       "<polyline clip-path=\"url(#clip3702)\" style=\"stroke:#e26f46; stroke-width:4; stroke-opacity:1; fill:none\" points=\"\n",
       "  203.127,1446.71 272.695,1439.23 342.262,1430.95 411.829,1421.81 481.396,1411.7 550.964,1400.53 620.531,1388.19 690.098,1374.54 759.665,1359.47 829.233,1342.8 \n",
       "  898.8,1324.39 968.367,1304.04 1037.93,1281.54 1107.5,1256.69 1177.07,1229.21 1246.64,1198.85 1316.2,1165.3 1385.77,1128.21 1455.34,1087.23 1524.91,1041.93 \n",
       "  1594.47,991.874 1664.04,936.551 1733.61,875.409 1803.17,807.837 1872.74,733.159 1942.31,650.627 2011.88,559.414 2081.44,458.609 2151.01,347.202 2220.58,224.078 \n",
       "  2290.15,88.0053 \n",
       "  \"/>\n",
       "<polygon clip-path=\"url(#clip3700)\" points=\"\n",
       "1989.93,312.204 2280.76,312.204 2280.76,130.764 1989.93,130.764 \n",
       "  \" fill=\"#ffffff\" fill-rule=\"evenodd\" fill-opacity=\"1\"/>\n",
       "<polyline clip-path=\"url(#clip3700)\" style=\"stroke:#000000; stroke-width:4; stroke-opacity:1; fill:none\" points=\"\n",
       "  1989.93,312.204 2280.76,312.204 2280.76,130.764 1989.93,130.764 1989.93,312.204 \n",
       "  \"/>\n",
       "<polyline clip-path=\"url(#clip3700)\" style=\"stroke:#009af9; stroke-width:4; stroke-opacity:1; fill:none\" points=\"\n",
       "  2013.93,191.244 2157.93,191.244 \n",
       "  \"/>\n",
       "<g clip-path=\"url(#clip3700)\">\n",
       "<text style=\"fill:#000000; fill-opacity:1; font-family:Arial,Helvetica Neue,Helvetica,sans-serif; font-size:48px; text-anchor:start;\" transform=\"rotate(0, 2181.93, 208.744)\" x=\"2181.93\" y=\"208.744\">y1</text>\n",
       "</g>\n",
       "<polyline clip-path=\"url(#clip3700)\" style=\"stroke:#e26f46; stroke-width:4; stroke-opacity:1; fill:none\" points=\"\n",
       "  2013.93,251.724 2157.93,251.724 \n",
       "  \"/>\n",
       "<g clip-path=\"url(#clip3700)\">\n",
       "<text style=\"fill:#000000; fill-opacity:1; font-family:Arial,Helvetica Neue,Helvetica,sans-serif; font-size:48px; text-anchor:start;\" transform=\"rotate(0, 2181.93, 269.224)\" x=\"2181.93\" y=\"269.224\">y2</text>\n",
       "</g>\n",
       "</svg>\n"
      ]
     },
     "execution_count": 39,
     "metadata": {},
     "output_type": "execute_result"
    }
   ],
   "source": [
    "plot(x, xx)\n",
    "plot!(x, yy)"
   ]
  },
  {
   "cell_type": "code",
   "execution_count": 16,
   "metadata": {},
   "outputs": [
    {
     "data": {
      "text/plain": [
       "2×2 Array{Float64,2}:\n",
       " 2.5e-7  0.0   \n",
       " 5.0e-6  0.0001"
      ]
     },
     "execution_count": 16,
     "metadata": {},
     "output_type": "execute_result"
    }
   ],
   "source": [
    "Q"
   ]
  },
  {
   "cell_type": "code",
   "execution_count": null,
   "metadata": {},
   "outputs": [],
   "source": []
  }
 ],
 "metadata": {
  "@webio": {
   "lastCommId": null,
   "lastKernelId": null
  },
  "kernelspec": {
   "display_name": "Julia 1.1.1",
   "language": "julia",
   "name": "julia-1.1"
  },
  "language_info": {
   "file_extension": ".jl",
   "mimetype": "application/julia",
   "name": "julia",
   "version": "1.1.1"
  }
 },
 "nbformat": 4,
 "nbformat_minor": 2
}
