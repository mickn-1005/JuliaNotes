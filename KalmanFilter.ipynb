{
 "cells": [
  {
   "cell_type": "markdown",
   "metadata": {},
   "source": [
    "# KalmanFilter\n",
    "KalmanFilter, ExtendedKalmanFilter\n",
    "\n",
    "ForwardDiff package is required for EKF"
   ]
  },
  {
   "cell_type": "code",
   "execution_count": 1,
   "metadata": {},
   "outputs": [
    {
     "name": "stderr",
     "output_type": "stream",
     "text": [
      "┌ Info: Recompiling stale cache file /Users/mickn/.julia/compiled/v1.1/Distributions/xILW0.ji for Distributions [31c24e10-a181-5473-b8eb-7969acd0382f]\n",
      "└ @ Base loading.jl:1184\n"
     ]
    }
   ],
   "source": [
    "using Plots, LinearAlgebra, Statistics, Distributions, Random, ForwardDiff"
   ]
  },
  {
   "cell_type": "code",
   "execution_count": 30,
   "metadata": {},
   "outputs": [
    {
     "name": "stderr",
     "output_type": "stream",
     "text": [
      "WARNING: redefining constant rng\n"
     ]
    },
    {
     "data": {
      "text/plain": [
       "MersenneTwister(UInt32[0x0000007b], Random.DSFMT.DSFMT_state(Int32[1464307935, 1073116007, 222134151, 1073120226, -290652630, 1072956456, -580276323, 1073476387, 1332671753, 1073438661  …  138346874, 1073030449, 1049893279, 1073166535, -1999907543, 1597138926, -775229811, 32947490, 382, 0]), [0.0, 0.0, 0.0, 0.0, 0.0, 0.0, 0.0, 0.0, 0.0, 0.0  …  0.0, 0.0, 0.0, 0.0, 0.0, 0.0, 0.0, 0.0, 0.0, 0.0], UInt128[0x00000000000000000000000000000000, 0x00000000000000000000000000000000, 0x00000000000000000000000000000000, 0x00000000000000000000000000000000, 0x00000000000000000000000000000000, 0x00000000000000000000000000000000, 0x00000000000000000000000000000000, 0x00000000000000000000000000000000, 0x00000000000000000000000000000000, 0x00000000000000000000000000000000  …  0x00000000000000000000000000000000, 0x00000000000000000000000000000000, 0x00000000000000000000000000000000, 0x00000000000000000000000000000000, 0x00000000000000000000000000000000, 0x00000000000000000000000000000000, 0x00000000000000000000000000000000, 0x00000000000000000000000000000000, 0x00000000000000000000000000000000, 0x00000000000000000000000000000000], 1002, 0)"
      ]
     },
     "execution_count": 30,
     "metadata": {},
     "output_type": "execute_result"
    }
   ],
   "source": [
    "const rng = MersenneTwister(123)"
   ]
  },
  {
   "cell_type": "markdown",
   "metadata": {},
   "source": [
    "## define constructor of KalmanFilter\n",
    "define Equation of state and Equation of observation as follows:\n",
    "$$\n",
    "\\boldsymbol{x}_{k} = A_k \\boldsymbol{x}_{k} + B_k \\boldsymbol{u}_{k} +  \\boldsymbol{w}_{k}\n",
    "$$\n",
    "$$\n",
    "\\boldsymbol{z}_{k} = C_k \\boldsymbol{x}_{k} + \\boldsymbol{v}_{k}\n",
    "$$\n",
    "$ \\boldsymbol{w}_{k} $ and $ \\boldsymbol{v}_{k} $ is gaussian noise:\n",
    "$$\n",
    "\\boldsymbol{w}_{k} \\sim  N(0, Q_k)\n",
    "$$\n",
    "$$\n",
    "\\boldsymbol{v}_{k} \\sim N(0, R_k)\n",
    "$$"
   ]
  },
  {
   "cell_type": "code",
   "execution_count": 38,
   "metadata": {},
   "outputs": [
    {
     "ename": "ErrorException",
     "evalue": "invalid redefinition of constant KF",
     "output_type": "error",
     "traceback": [
      "invalid redefinition of constant KF",
      "",
      "Stacktrace:",
      " [1] top-level scope at none:0"
     ]
    }
   ],
   "source": [
    "# constructor of time-invariant system (F,G,H,Q,R is constant)\n",
    "mutable struct KF\n",
    "    # system dynamics matrices\n",
    "    A::Array{Float64}       # EOS\n",
    "    B::Array{Float64}       # controll\n",
    "    C::Array{Float64}       # EOO\n",
    "    Q::Array{Float64}       # Covariace matrix of drive noise\n",
    "    R::Array{Float64}       # COvariance matix of observation noise\n",
    "    # old state of system (or initial state at construction)\n",
    "    x_old::Vector{Float64}\n",
    "    P_old::Array{Float64}\n",
    "end\n",
    "# in case you consider the time-variant system, you have to access the members of this struct consequently\n",
    "function KF(kf::KF, A::Matrix{Float64}, B::Matrix{Float64}, C::Matrix{Float64}, Q::Matrix{Float64}, R::Matrix{Float64})\n",
    "    # update time-variant system dynamics\n",
    "    kf.A = A\n",
    "    kf.B = B\n",
    "    kf.C = C\n",
    "    kf.Q = Q\n",
    "    kf.R = R\n",
    "    return kf\n",
    "end\n",
    "function KF(kf::KF, x_old::Vector{Float64}, P_old::Matrix{Float64})\n",
    "    kf.x_old = x_old\n",
    "    kf.P_old = P_old\n",
    "end"
   ]
  },
  {
   "cell_type": "code",
   "execution_count": 32,
   "metadata": {},
   "outputs": [
    {
     "ename": "LoadError",
     "evalue": "syntax: unexpected \"end\"",
     "output_type": "error",
     "traceback": [
      "syntax: unexpected \"end\"",
      ""
     ]
    }
   ],
   "source": [
    "mutable struct EKF\n",
    "    kf::KF\n",
    "    f::function      # nonlinear function of x and u\n",
    "    h::function      # nonlinear function of x\n",
    "end"
   ]
  },
  {
   "cell_type": "code",
   "execution_count": 33,
   "metadata": {},
   "outputs": [
    {
     "data": {
      "text/plain": [
       "KF_EoO (generic function with 1 method)"
      ]
     },
     "execution_count": 33,
     "metadata": {},
     "output_type": "execute_result"
    }
   ],
   "source": [
    "# Equation of State\n",
    "KF_EoS(kf::KF, x::Vector{Float64}; w=zeros(length(x)), u=zeros(length(x))) = kf.A*x + kf.B*u + w\n",
    "# Equation of Observation\n",
    "KF_EoO(kf::KF, x::Vector{Float64}; v=zeros(length(kf.C*x))) = kf.C*x + v"
   ]
  },
  {
   "cell_type": "markdown",
   "metadata": {},
   "source": [
    "## update of state\n",
    "Prediction of state:\n",
    "$$\n",
    "\\hat{\\boldsymbol{x}}_{k|k-1} = A_k \\hat{\\boldsymbol{x}}_{k-1|k-1} + B_k \\boldsymbol{u}_{k}  \\qquad \\textrm{: prediction of state}\n",
    "$$\n",
    "$$\n",
    "P_{k|k-1} = A_k P_{k-1|k-1} A_k^T + Q_k  \\quad \\textrm{: prediction of error matrix}\n",
    "$$\n",
    "\n",
    "Update of state:\n",
    "$$\n",
    "\\boldsymbol{e}_{k} = \\boldsymbol{z}_{k} - C_k \\hat{\\boldsymbol{x}}_{k|k-1}    \\quad \\textrm{: innovation}\n",
    "$$\n",
    "$$\n",
    "S_k = R_k + C_k P_{k|k-1} C_k^T   \\quad \\textrm{: covariance matrix of innovation}\n",
    "$$\n",
    "$$\n",
    "K_k = P_{k|k-1} C_k^T S_k^{-1}      \\quad \\textrm{: optimal Kalman gain}\n",
    "$$\n",
    "$$\n",
    "\\hat{\\boldsymbol{x}}_{k|k} = \\hat{\\boldsymbol{x}}_{k|k-1}  + K_k\\boldsymbol{e}_{k}     \\quad \\textrm{: updated state prediction}\n",
    "$$\n",
    "$$\n",
    "P_{k|k} = (I-K_kC_k) P_{k|k-1}    \\quad \\textrm{: updated error matrix}\n",
    "$$"
   ]
  },
  {
   "cell_type": "code",
   "execution_count": 34,
   "metadata": {},
   "outputs": [
    {
     "data": {
      "text/plain": [
       "KFUpdate (generic function with 2 methods)"
      ]
     },
     "execution_count": 34,
     "metadata": {},
     "output_type": "execute_result"
    }
   ],
   "source": [
    "# Estimation of Stable dynamics (using linear kalman filter) \n",
    "# with controll varuable\n",
    "# Update\n",
    "function KFUpdate(kf::KF, x::Vector{Float64}, u::Vector{Float64})\n",
    "    @assert length(u)==length(kf.A*kf.x_old)\n",
    "    # Prediction of older filter\n",
    "    x_predicted = KF_EoS(kf, kf.x_old, u=u)\n",
    "    P_predicted = kf.A * kf.P_old * transpose(kf.A) + kf.Q\n",
    "    \n",
    "    # update filter\n",
    "    C_T = transpose(kf.C)\n",
    "    e = x - KF_EoO(kf, x_predicted)\n",
    "    S = kf.R + kf.C * P_predicted * C_T\n",
    "    Sinv = inv(S)\n",
    "    K = P_predicted * C_T * Sinv\n",
    "    x_updated = x_predicted + K*e\n",
    "    nm = length(kf.x_old)\n",
    "    eye = Matrix{Float64}(I, nm, nm)\n",
    "    P_updated = (eye - K*kf.C) * P_predicted\n",
    "    \n",
    "    kf.x_old = x_updated\n",
    "    kf.P_old = P_updated\n",
    "    return x_updated, P_updated\n",
    "end\n",
    "# without controll\n",
    "function KFUpdate(kf::KF, x::Vector{Float64})\n",
    "    # Prediction of older filter\n",
    "    x_predicted = KF_EoS(kf, kf.x_old)\n",
    "    P_predicted = kf.A * kf.P_old * transpose(kf.A) + kf.Q\n",
    "    \n",
    "    # update filter\n",
    "    C_T = transpose(kf.C)\n",
    "    e = x - KF_EoO(kf, x_predicted)\n",
    "    S = kf.R + kf.C * P_predicted * C_T\n",
    "    Sinv = inv(S)\n",
    "    K = P_predicted * C_T * Sinv\n",
    "    x_updated = x_predicted + K*e\n",
    "    nm = length(kf.x_old)\n",
    "    eye = Matrix{Float64}(I, nm, nm)\n",
    "    P_updated = (eye - K*kf.C) * P_predicted\n",
    "    \n",
    "    kf.x_old = x_updated\n",
    "    kf.P_old = P_updated\n",
    "    return x_updated, P_updated\n",
    "end"
   ]
  },
  {
   "cell_type": "code",
   "execution_count": 35,
   "metadata": {},
   "outputs": [
    {
     "data": {
      "text/plain": [
       "KFPropagate (generic function with 2 methods)"
      ]
     },
     "execution_count": 35,
     "metadata": {},
     "output_type": "execute_result"
    }
   ],
   "source": [
    "# Estimation of Stable dynamics (using linear kalman filter) \n",
    "# with controll varuable\n",
    "# Update\n",
    "function KFPropagate(kf::KF, x::Vector{Float64}, u::Vector{Float64})\n",
    "    @assert length(u)==length(kf.A*kf.x_old)\n",
    "    # Prediction of older filter\n",
    "    x_predicted = KF_EoS(kf, kf.x_old, u=u)\n",
    "    P_predicted = kf.A * kf.P_old * transpose(kf.A) + kf.Q\n",
    "    \n",
    "    kf.x_old = x_predicted\n",
    "    kf.P_old = P_predicted\n",
    "    return x_predicted, P_predicted\n",
    "end\n",
    "# without controll\n",
    "function KFPropagate(kf::KF, x::Vector{Float64})\n",
    "    # Prediction of older filter\n",
    "    x_predicted = KF_EoS(kf, kf.x_old)\n",
    "    P_predicted = kf.A * kf.P_old * transpose(kf.A) + kf.Q\n",
    "    \n",
    "    kf.x_old = x_predicted\n",
    "    kf.P_old = P_predicted\n",
    "    return x_predicted, P_predicted\n",
    "end"
   ]
  },
  {
   "cell_type": "markdown",
   "metadata": {},
   "source": [
    "## example : state estimation of moving trocco\n",
    "assumptions:\n",
    "- no control\n",
    "- time invariant\n",
    "- accurate initial state\n",
    "\n",
    "state is represented as :\n",
    "$$\n",
    "\\boldsymbol{x}_k = \n",
    " \\left[\\begin{array}{c}\n",
    "            x_k \\\\\n",
    "            \\dot{x}_k \\\\\n",
    "        \\end{array}\\right]\n",
    "$$\n",
    "acceralation $ a_k \\sim N(0,\\sigma_a) $ is given between time $k$ and  $k-1$. System dynamics is represented  as :\n",
    "$$\n",
    "\\boldsymbol{x}_k = A \\boldsymbol{x}_{k-1} + G a_k\n",
    "$$\n",
    "$$\n",
    "A = \n",
    "\\left[\\begin{array}{cc}\n",
    "            1 & \\Delta t\\\\\n",
    "            0 & 1\\\\\n",
    "        \\end{array}\\right]\n",
    "$$\n",
    "$$\n",
    "G = \n",
    " \\left[\\begin{array}{c}\n",
    "            \\frac{\\Delta t^2}{2} \\\\\n",
    "             \\Delta t\\\\\n",
    "         \\end{array}\\right]  \n",
    "$$\n",
    "$$\n",
    "a_k \\sim N(0, \\sigma_a) \n",
    "$$\n",
    "$$\n",
    "Q = Cov(G a_k) = \\sigma_a^2 \\times\n",
    "\\left[\\begin{array}{cc}\n",
    "            \\frac{\\Delta t^4}{4} & \\frac{\\Delta t^3}{2}\\\\\n",
    "            \\frac{\\Delta t^3}{2} & \\Delta t^2\\\\\n",
    "        \\end{array}\\right]\n",
    "$$\n",
    "position $ z_k $ is observed every $\\Delta t$.  $ z_k $ is represented by observation error $v_k $ as:\n",
    "$$\n",
    "z_k = C \\boldsymbol{x}_{k}+\\boldsymbol{v}_{k}\n",
    "$$\n",
    "$$\n",
    "C = \\left[\\begin{array}{cc}\n",
    "            1 & 0\\\\\n",
    "        \\end{array}\\right]\n",
    "$$\n",
    "$$\n",
    "v_k \\sim N(0, \\sigma_z)\n",
    "$$\n",
    "$$\n",
    "R = \n",
    "\\mathrm{E}\\left(\\boldsymbol{v}_{k} \\boldsymbol{v}_{k}^{\\mathrm{T}}\\right)=\\left[\\sigma_{z}^{2}\\right]\n",
    "$$\n"
   ]
  },
  {
   "cell_type": "code",
   "execution_count": 36,
   "metadata": {
    "scrolled": true
   },
   "outputs": [
    {
     "data": {
      "text/plain": [
       "KF_trocco (generic function with 1 method)"
      ]
     },
     "execution_count": 36,
     "metadata": {},
     "output_type": "execute_result"
    }
   ],
   "source": [
    "function KF_trocco()\n",
    "    x₀ = [0., 0.]\n",
    "    P₀ = [10 0. ; 0. 10.]\n",
    "    σₐ = 1.\n",
    "    σ₀ = 1.\n",
    "    Δt = 0.1              # [sec]\n",
    "    tstep_observation = 5\n",
    "    A = [1. Δt ; 0. 1.]\n",
    "    B = [1. 0.; 0. 1.]      # not specified because u is zero vector\n",
    "    G = [Δt^2/2, Δt]\n",
    "    Q = σₐ^2 * [Δt^4/4 Δt^3/2; Δt^3/2 Δt^2]\n",
    "    C = [1 0]\n",
    "    R = [σ₀^2]\n",
    "    kf = KF(A, B, C, Q, R, x₀, P₀)\n",
    "    \n",
    "    tspan = 0.:Δt:10.\n",
    "    k = collect(tspan)\n",
    "    xtrue = zeros(length(k),2)       # true value\n",
    "    state = zeros(length(k),2)       # inner state of KF\n",
    "    estim = zeros(length(k),2)      # estimated state of KF\n",
    "    obser = zeros(length(k),1)     # observed state observed state\n",
    "    Pmax = zeros(length(k),1)     # max value of P\n",
    "    \n",
    "    xtrue[1,:] = x₀\n",
    "    Pmax[1] = maximum(P₀)\n",
    "    obser[1,:] = KF_EoO(kf, xtrue[1,:], v=[randn(rng)])\n",
    "    estim[1,:], newP = KFPropagate(kf, obser[1,:])\n",
    "\n",
    "    for ind in range(2,stop=length(k))\n",
    "        xtrue[ind,:] = KF_EoS(kf, xtrue[ind-1,:], w=G*randn(rng))\n",
    "        obser[ind,:] = KF_EoO(kf, xtrue[ind,:], v=[randn(rng)])\n",
    "        if ind%tstep_observation==0\n",
    "            estim[ind,:], newP = KFUpdate(kf, obser[ind,:])\n",
    "        else\n",
    "            estim[ind,:], newP = KFPropagate(kf, obser[ind,:])\n",
    "        end\n",
    "        Pmax[ind] = maximum(newP)\n",
    "    end\n",
    "    return xtrue, estim, obser, Pmax\n",
    "end"
   ]
  },
  {
   "cell_type": "code",
   "execution_count": 37,
   "metadata": {},
   "outputs": [
    {
     "ename": "ErrorException",
     "evalue": "setfield! immutable struct of type KF cannot be changed",
     "output_type": "error",
     "traceback": [
      "setfield! immutable struct of type KF cannot be changed",
      "",
      "Stacktrace:",
      " [1] setproperty! at ./sysimg.jl:19 [inlined]",
      " [2] KFPropagate(::KF, ::Array{Float64,1}) at ./In[35]:20",
      " [3] KF_trocco() at ./In[36]:27",
      " [4] top-level scope at util.jl:156",
      " [5] top-level scope at In[37]:1"
     ]
    }
   ],
   "source": [
    "@time xtrue, estim, obser, Pmax = KF_trocco()"
   ]
  },
  {
   "cell_type": "markdown",
   "metadata": {},
   "source": [
    "## Result\n",
    "### The position"
   ]
  },
  {
   "cell_type": "code",
   "execution_count": 24,
   "metadata": {},
   "outputs": [
    {
     "ename": "UndefVarError",
     "evalue": "UndefVarError: xtrue not defined",
     "output_type": "error",
     "traceback": [
      "UndefVarError: xtrue not defined",
      "",
      "Stacktrace:",
      " [1] top-level scope at In[24]:1"
     ]
    }
   ],
   "source": [
    "plot(xtrue[:,1], label=\"true\", legend=:bottomright)\n",
    "plot!(estim[:,1], linestyle=:dash, label=\"estimated\")\n",
    "plot!(obser[:,1], linestyle=:dash, label=\"observed\")"
   ]
  },
  {
   "cell_type": "markdown",
   "metadata": {},
   "source": [
    "### The verocity"
   ]
  },
  {
   "cell_type": "code",
   "execution_count": 25,
   "metadata": {},
   "outputs": [
    {
     "ename": "UndefVarError",
     "evalue": "UndefVarError: xtrue not defined",
     "output_type": "error",
     "traceback": [
      "UndefVarError: xtrue not defined",
      "",
      "Stacktrace:",
      " [1] top-level scope at In[25]:1"
     ]
    }
   ],
   "source": [
    "plot(xtrue[:,2], label=\"true\", legend=:bottomright)\n",
    "plot!(estim[:,2], linestyle=:dash, label=\"estimated\")"
   ]
  },
  {
   "cell_type": "code",
   "execution_count": 26,
   "metadata": {},
   "outputs": [
    {
     "ename": "UndefVarError",
     "evalue": "UndefVarError: Pmax not defined",
     "output_type": "error",
     "traceback": [
      "UndefVarError: Pmax not defined",
      "",
      "Stacktrace:",
      " [1] top-level scope at In[26]:1"
     ]
    }
   ],
   "source": [
    "plot(Pmax, label=\"max value of covariance\")"
   ]
  },
  {
   "cell_type": "markdown",
   "metadata": {},
   "source": [
    "## 2D randomwalk estimation by observing position"
   ]
  },
  {
   "cell_type": "code",
   "execution_count": 27,
   "metadata": {},
   "outputs": [
    {
     "data": {
      "text/plain": [
       "KF_2D (generic function with 1 method)"
      ]
     },
     "execution_count": 27,
     "metadata": {},
     "output_type": "execute_result"
    }
   ],
   "source": [
    "function KF_2D()\n",
    "    x₀ = [0., 0.]\n",
    "    P₀ = [10. 0. ; 1. 10.]\n",
    "    σₐ = 1.\n",
    "    σ₀ = 1.\n",
    "    Δt = 0.1              # [sec]\n",
    "    tstep_observation = 5\n",
    "    A = [1. 0. ; 0. 1.]\n",
    "    B = [1. 0.; 0. 1.]      # not specified because u is zero vector\n",
    "    G = [1. 0.;0. 1.]\n",
    "    Q = σₐ^2 * [1 1; 1 1]\n",
    "    C = [1 0; 0 1]\n",
    "    R = [σ₀^2 0; 0 σ₀^2]\n",
    "    kf = KF(A, B, C, Q, R, x₀, P₀)\n",
    "    \n",
    "    u = [0.5,0.5]      # verocity\n",
    "    \n",
    "    tspan = 0.:Δt:10.\n",
    "    k = collect(tspan)\n",
    "    xtrue = zeros(length(k),2)       # true value\n",
    "    state = zeros(length(k),2)       # inner state of KF\n",
    "    estim = zeros(length(k),2)      # estimated state of KF\n",
    "    obser = zeros(length(k),2)     # observed state observed state\n",
    "    Pmax = zeros(length(k),1)     # max value of P\n",
    "    \n",
    "    xtrue[1,:] = x₀\n",
    "    Pmax[1] = maximum(P₀)\n",
    "    obser[1,:] = KF_EoO(kf, xtrue[1,:], v=[randn(rng), randn(rng)])\n",
    "    estim[1,:], newP = KFPropagate(kf, obser[1,:], u)\n",
    "    \n",
    "    for ind in range(2,stop=length(k))\n",
    "        xtrue[ind,:] = KF_EoS(kf, xtrue[ind-1,:], w=G*[randn(rng),randn(rng)], u=u)\n",
    "        obser[ind,:] = KF_EoO(kf, xtrue[ind,:], v=[randn(rng), randn(rng)])\n",
    "        if ind%tstep_observation==0\n",
    "            estim[ind,:], newP = KFUpdate(kf, obser[ind,:],u)\n",
    "        else\n",
    "            estim[ind,:], newP = KFPropagate(kf, obser[ind,:],u)\n",
    "        end\n",
    "        Pmax[ind] = maximum(newP)\n",
    "    end\n",
    "    return xtrue, estim, obser, Pmax\n",
    "end"
   ]
  },
  {
   "cell_type": "code",
   "execution_count": 28,
   "metadata": {},
   "outputs": [
    {
     "ename": "ErrorException",
     "evalue": "setfield! immutable struct of type KF cannot be changed",
     "output_type": "error",
     "traceback": [
      "setfield! immutable struct of type KF cannot be changed",
      "",
      "Stacktrace:",
      " [1] setproperty! at ./sysimg.jl:19 [inlined]",
      " [2] KFPropagate(::KF, ::Array{Float64,1}, ::Array{Float64,1}) at ./In[21]:10",
      " [3] KF_2D() at ./In[27]:29",
      " [4] top-level scope at util.jl:156",
      " [5] top-level scope at In[28]:1"
     ]
    }
   ],
   "source": [
    "@time xtrue, estim, obser, Pmax=KF_2D()"
   ]
  },
  {
   "cell_type": "markdown",
   "metadata": {},
   "source": [
    "## Result\n",
    "### The estimate of Position"
   ]
  },
  {
   "cell_type": "code",
   "execution_count": 29,
   "metadata": {},
   "outputs": [
    {
     "ename": "UndefVarError",
     "evalue": "UndefVarError: xtrue not defined",
     "output_type": "error",
     "traceback": [
      "UndefVarError: xtrue not defined",
      "",
      "Stacktrace:",
      " [1] top-level scope at In[29]:1"
     ]
    }
   ],
   "source": [
    "plot(xtrue[:,1], xtrue[:,2], label=\"true\", legend=:bottomright)\n",
    "plot!(estim[:,1], estim[:,2], label=\"estimated\")"
   ]
  },
  {
   "cell_type": "code",
   "execution_count": 16,
   "metadata": {},
   "outputs": [
    {
     "ename": "UndefVarError",
     "evalue": "UndefVarError: Pmax not defined",
     "output_type": "error",
     "traceback": [
      "UndefVarError: Pmax not defined",
      "",
      "Stacktrace:",
      " [1] top-level scope at In[16]:1"
     ]
    }
   ],
   "source": [
    "plot(Pmax, label=\"max value of covariance\")"
   ]
  },
  {
   "cell_type": "markdown",
   "metadata": {},
   "source": [
    "## when considering the velocity"
   ]
  },
  {
   "cell_type": "code",
   "execution_count": 17,
   "metadata": {},
   "outputs": [
    {
     "ename": "LoadError",
     "evalue": "syntax: unexpected comma in matrix expression",
     "output_type": "error",
     "traceback": [
      "syntax: unexpected comma in matrix expression",
      ""
     ]
    }
   ],
   "source": [
    "function KF_2D_4dmodel()\n",
    "    x₀ = [0., 0., 0, 0.]\n",
    "    P₀ = [10. 0. 0. 0. ; 0. 10. 0. 0.; 0. 0. 10. 0.; 0. 0. 0. 10.]\n",
    "    σₐ = 1.\n",
    "    σ₀ = 1.\n",
    "    Δt = 0.1              # [sec]\n",
    "    tstep_observation = 5\n",
    "    A = [1. 0. Δt 0. ; 0. 1. 0. Δt; 0. 0. 1. 0.; 0. 0. 0. 1.]\n",
    "    B = [10. 0. 0. 0.; 0. 0. 0. 0.; 10. 0. 0. 0.; 10. 0. 0. 0.]      # not specified because u is zero vector\n",
    "    G = [Δt^2/2 0.; 0. Δt^2/2; Δt, 0.; 0.  Δt]\n",
    "    \n",
    "#     Q = σₐ^2 * [1 1; 1 1]\n",
    "#     C = [1 0; 0 1]\n",
    "#     R = [σ₀^2 0; 0 σ₀^2]\n",
    "#     kf = KF(A, B, C, Q, R, x₀, P₀)\n",
    "    \n",
    "#     u = [0.5,0.5]      # verocity\n",
    "    \n",
    "#     tspan = 0.:Δt:10.\n",
    "#     k = collect(tspan)\n",
    "#     xtrue = zeros(length(k),2)       # true value\n",
    "#     state = zeros(length(k),2)       # inner state of KF\n",
    "#     estim = zeros(length(k),2)      # estimated state of KF\n",
    "#     obser = zeros(length(k),2)     # observed state observed state\n",
    "#     Pmax = zeros(length(k),1)     # max value of P\n",
    "    \n",
    "#     xtrue[1,:] = x₀\n",
    "#     Pmax[1] = maximum(P₀)\n",
    "#     obser[1,:] = KF_EoO(kf, xtrue[1,:], v=[randn(rng), randn(rng)])\n",
    "#     estim[1,:], newP = KFPropagate(kf, obser[1,:], u)\n",
    "    \n",
    "#     for ind in range(2,stop=length(k))\n",
    "#         xtrue[ind,:] = KF_EoS(kf, xtrue[ind-1,:], w=G*[randn(rng),randn(rng)], u=u)\n",
    "#         obser[ind,:] = KF_EoO(kf, xtrue[ind,:], v=[randn(rng), randn(rng)])\n",
    "#         if ind%tstep_observation==0\n",
    "#             estim[ind,:], newP = KFUpdate(kf, obser[ind,:],u)\n",
    "#         else\n",
    "#             estim[ind,:], newP = KFPropagate(kf, obser[ind,:],u)\n",
    "#         end\n",
    "#         Pmax[ind] = maximum(newP)\n",
    "#     end\n",
    "#     return xtrue, estim, obser, Pmax\n",
    "end"
   ]
  },
  {
   "cell_type": "markdown",
   "metadata": {},
   "source": [
    "## References\n",
    "- https://ja.wikipedia.org/wiki/カルマンフィルター\n",
    "- http://koukyo1213.hatenablog.com/entry/KalmanFilter"
   ]
  }
 ],
 "metadata": {
  "@webio": {
   "lastCommId": null,
   "lastKernelId": null
  },
  "kernelspec": {
   "display_name": "Julia 1.0.3",
   "language": "julia",
   "name": "julia-1.0"
  },
  "language_info": {
   "file_extension": ".jl",
   "mimetype": "application/julia",
   "name": "julia",
   "version": "1.0.3"
  }
 },
 "nbformat": 4,
 "nbformat_minor": 2
}
